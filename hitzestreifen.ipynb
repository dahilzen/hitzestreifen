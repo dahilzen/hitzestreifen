{
 "cells": [
  {
   "cell_type": "code",
   "execution_count": 1,
   "metadata": {},
   "outputs": [],
   "source": [
    "import pandas as pd\n",
    "import numpy as np\n",
    "import matplotlib.pyplot as plt\n",
    "import seaborn as sns\n",
    "\n",
    "from scipy.stats import norm"
   ]
  },
  {
   "cell_type": "markdown",
   "metadata": {},
   "source": [
    "Die Daten pro Station gibt es hier: https://opendata.dwd.de/climate_environment/CDC/observations_germany/climate/annual/kl/historical/. Einfach die txt-Datei speichern und den Ort als Parameter der draw_chart-Funktion übergeben.\n",
    "\n",
    "Die Idee der Darstellung stammt von [Ed Hawkins](https://twitter.com/ed_hawkins?lang=de), der [#showyourstripes](https://showyourstripes.info/) ins Leben gerufen hat. "
   ]
  },
  {
   "cell_type": "code",
   "execution_count": 2,
   "metadata": {},
   "outputs": [],
   "source": [
    "def wrangle_data(url):\n",
    "    #Daten einlesen\n",
    "    df = pd.read_csv(url, sep=\";\", dtype=object)\n",
    "    \n",
    "    # Jahreszahl festlegen\n",
    "    df[\"jahr\"] = df[\"MESS_DATUM_ENDE\"].apply(lambda x: x[:4])\n",
    "    \n",
    "    # Spalten löschen und umbenennen\n",
    "    cols = ['STATIONS_ID', 'jahr', 'JA_TT']\n",
    "    df = df[cols]\n",
    "    df.columns = [\"id\", \"jahr\", \"temp\"]\n",
    "    \n",
    "    # richtigen Datentyp festlegen\n",
    "    df[\"temp\"] = df[\"temp\"].astype(float)\n",
    "    df[\"jahr\"] = pd.to_datetime(df[\"jahr\"], format=\"%Y\")\n",
    "    \n",
    "    # Einen festen Wert festlegen, damit am Ende alle Balken die gleiche Höhe haben\n",
    "    df[\"value\"] = 10\n",
    "    \n",
    "    # Fehlende Werte aussortieren\n",
    "    df = df.replace(-999.0, np.nan)\n",
    "    df = df.dropna()\n",
    "    \n",
    "    # Die Temperaturschwanken zwischen 0 und 1 normalisieren\n",
    "    df[\"temp_normalize\"] = round((df.temp - df.temp.min()) / (df.temp.max() - df.temp.min()),2)\n",
    "    \n",
    "    return df\n"
   ]
  },
  {
   "cell_type": "code",
   "execution_count": 30,
   "metadata": {},
   "outputs": [],
   "source": [
    "def draw_chart(url, name):\n",
    "    \n",
    "    # Die Daten laden und bearbeiten\n",
    "    df = wrangle_data(url)\n",
    "    \n",
    "    # Den Farbverlauf festlegen \n",
    "    cmap = plt.get_cmap(\"seismic\")\n",
    "\n",
    "    # Die Variablen festlegen, die geplottet werden sollen\n",
    "    height = df.value.values\n",
    "    bars = df.jahr.values\n",
    "    color = df.temp_normalize.values\n",
    "    y_pos = np.arange(len(bars))\n",
    "    \n",
    "    # Größe der Grafik festlegen\n",
    "    mydpi = 100\n",
    "    fig, ax = plt.subplots(figsize = [644 * 2 / mydpi, 400 * 2 / mydpi])\n",
    "\n",
    "    # Balken zeichen\n",
    "    plt.bar(y_pos, height, color=cmap(color))\n",
    "\n",
    "    # Alle Achsen und Beschriftungen entfernen\n",
    "    sns.despine(left=True, bottom=True)\n",
    "    plt.tick_params(\n",
    "        axis='both',\n",
    "        which='both',\n",
    "        bottom=False,\n",
    "        top=False,\n",
    "        left=False,\n",
    "        labelbottom=False,\n",
    "        labelleft=False)\n",
    "    plt.tight_layout()\n",
    "\n",
    "    # Als png speichern\n",
    "    plt.savefig(\"./vis/\"+name+\".png\", transparent=True, dpi=100)\n",
    "    \n",
    "    min_jahr = str(df.jahr.min())[:4]\n",
    "    max_jahr = str(df.jahr.max())[:4]\n",
    "    min_temp = df.temp.min()\n",
    "    max_temp = df.temp.max()\n",
    "    \n",
    "    print(\"Von {} bis {}.\".format(min_jahr, max_jahr))\n",
    "    print(\"Niedrigste Temp: {}, höchste Temp: {}\".format(min_temp, max_temp))\n",
    "    \n",
    "    print(\"Werte von {} bis {}. Niedrigste Temperatur: {} Grad Celsius (tiefes blau), höchste Temperatur: {} Grad Celsius (tiefes rot).\".format(min_jahr, max_jahr, min_temp, max_temp) )\n",
    "    print(df[df.temp == min_temp])\n",
    "    \n",
    "    "
   ]
  }
 ],
 "metadata": {
  "kernelspec": {
   "display_name": "Python 3",
   "language": "python",
   "name": "python3"
  },
  "language_info": {
   "codemirror_mode": {
    "name": "ipython",
    "version": 3
   },
   "file_extension": ".py",
   "mimetype": "text/x-python",
   "name": "python",
   "nbconvert_exporter": "python",
   "pygments_lexer": "ipython3",
   "version": "3.7.3"
  }
 },
 "nbformat": 4,
 "nbformat_minor": 2
}
